{
  "nbformat": 4,
  "nbformat_minor": 0,
  "metadata": {
    "colab": {
      "provenance": [],
      "authorship_tag": "ABX9TyMnUt4zMAbcNmXLtuWzFk9I",
      "include_colab_link": true
    },
    "kernelspec": {
      "name": "python3",
      "display_name": "Python 3"
    },
    "language_info": {
      "name": "python"
    }
  },
  "cells": [
    {
      "cell_type": "markdown",
      "metadata": {
        "id": "view-in-github",
        "colab_type": "text"
      },
      "source": [
        "<a href=\"https://colab.research.google.com/github/seoryeongwi/BP_05_EX_Ch10.ipynb/blob/main/Untitled9.ipynb\" target=\"_parent\"><img src=\"https://colab.research.google.com/assets/colab-badge.svg\" alt=\"Open In Colab\"/></a>"
      ]
    },
    {
      "cell_type": "markdown",
      "source": [
        "1. 다음과 같이 하나의 레이블과 2개의 버튼을 가지는 프로그램을 작성해보자."
      ],
      "metadata": {
        "id": "nAS8nmn3qbLA"
      }
    },
    {
      "cell_type": "code",
      "source": [
        "from tkinter import Tk, Label, Button\n",
        "\n",
        "def greet():\n",
        "    print(\"파이썬을 오신 것을 환영합니다. \")\n",
        "\n",
        "window = Tk()\n",
        "label = Label(window, text=\"간단한 GUI 프로그램!\")\n",
        "label.pack()\n",
        "\n",
        "greet_button =Button(window,text=\"환영합니다.\", command = greet)\n",
        "greet_button.pack()\n",
        "\n",
        "close_button =Button(window, text=\"종료\", command=window.quit)\n",
        "close_button.pack()\n",
        "\n",
        "window.mainloop()"
      ],
      "metadata": {
        "colab": {
          "base_uri": "https://localhost:8080/",
          "height": 376
        },
        "id": "d2pBe3H9qmYo",
        "outputId": "2c84e742-c096-4940-85cb-4b93565f6ec6"
      },
      "execution_count": 1,
      "outputs": [
        {
          "output_type": "error",
          "ename": "TclError",
          "evalue": "ignored",
          "traceback": [
            "\u001b[0;31m---------------------------------------------------------------------------\u001b[0m",
            "\u001b[0;31mTclError\u001b[0m                                  Traceback (most recent call last)",
            "\u001b[0;32m<ipython-input-1-70fa12463a05>\u001b[0m in \u001b[0;36m<module>\u001b[0;34m\u001b[0m\n\u001b[1;32m      4\u001b[0m     \u001b[0mprint\u001b[0m\u001b[0;34m(\u001b[0m\u001b[0;34m\"파이썬을 오신 것을 환영합니다. \"\u001b[0m\u001b[0;34m)\u001b[0m\u001b[0;34m\u001b[0m\u001b[0;34m\u001b[0m\u001b[0m\n\u001b[1;32m      5\u001b[0m \u001b[0;34m\u001b[0m\u001b[0m\n\u001b[0;32m----> 6\u001b[0;31m \u001b[0mwindow\u001b[0m \u001b[0;34m=\u001b[0m \u001b[0mTk\u001b[0m\u001b[0;34m(\u001b[0m\u001b[0;34m)\u001b[0m\u001b[0;34m\u001b[0m\u001b[0;34m\u001b[0m\u001b[0m\n\u001b[0m\u001b[1;32m      7\u001b[0m \u001b[0mlabel\u001b[0m \u001b[0;34m=\u001b[0m \u001b[0mLabel\u001b[0m\u001b[0;34m(\u001b[0m\u001b[0mwindow\u001b[0m\u001b[0;34m,\u001b[0m \u001b[0mtext\u001b[0m\u001b[0;34m=\u001b[0m\u001b[0;34m\"간단한 GUI 프로그램!\"\u001b[0m\u001b[0;34m)\u001b[0m\u001b[0;34m\u001b[0m\u001b[0;34m\u001b[0m\u001b[0m\n\u001b[1;32m      8\u001b[0m \u001b[0mlabel\u001b[0m\u001b[0;34m.\u001b[0m\u001b[0mpack\u001b[0m\u001b[0;34m(\u001b[0m\u001b[0;34m)\u001b[0m\u001b[0;34m\u001b[0m\u001b[0;34m\u001b[0m\u001b[0m\n",
            "\u001b[0;32m/usr/lib/python3.7/tkinter/__init__.py\u001b[0m in \u001b[0;36m__init__\u001b[0;34m(self, screenName, baseName, className, useTk, sync, use)\u001b[0m\n\u001b[1;32m   2021\u001b[0m                 \u001b[0mbaseName\u001b[0m \u001b[0;34m=\u001b[0m \u001b[0mbaseName\u001b[0m \u001b[0;34m+\u001b[0m \u001b[0mext\u001b[0m\u001b[0;34m\u001b[0m\u001b[0;34m\u001b[0m\u001b[0m\n\u001b[1;32m   2022\u001b[0m         \u001b[0minteractive\u001b[0m \u001b[0;34m=\u001b[0m \u001b[0;36m0\u001b[0m\u001b[0;34m\u001b[0m\u001b[0;34m\u001b[0m\u001b[0m\n\u001b[0;32m-> 2023\u001b[0;31m         \u001b[0mself\u001b[0m\u001b[0;34m.\u001b[0m\u001b[0mtk\u001b[0m \u001b[0;34m=\u001b[0m \u001b[0m_tkinter\u001b[0m\u001b[0;34m.\u001b[0m\u001b[0mcreate\u001b[0m\u001b[0;34m(\u001b[0m\u001b[0mscreenName\u001b[0m\u001b[0;34m,\u001b[0m \u001b[0mbaseName\u001b[0m\u001b[0;34m,\u001b[0m \u001b[0mclassName\u001b[0m\u001b[0;34m,\u001b[0m \u001b[0minteractive\u001b[0m\u001b[0;34m,\u001b[0m \u001b[0mwantobjects\u001b[0m\u001b[0;34m,\u001b[0m \u001b[0museTk\u001b[0m\u001b[0;34m,\u001b[0m \u001b[0msync\u001b[0m\u001b[0;34m,\u001b[0m \u001b[0muse\u001b[0m\u001b[0;34m)\u001b[0m\u001b[0;34m\u001b[0m\u001b[0;34m\u001b[0m\u001b[0m\n\u001b[0m\u001b[1;32m   2024\u001b[0m         \u001b[0;32mif\u001b[0m \u001b[0museTk\u001b[0m\u001b[0;34m:\u001b[0m\u001b[0;34m\u001b[0m\u001b[0;34m\u001b[0m\u001b[0m\n\u001b[1;32m   2025\u001b[0m             \u001b[0mself\u001b[0m\u001b[0;34m.\u001b[0m\u001b[0m_loadtk\u001b[0m\u001b[0;34m(\u001b[0m\u001b[0;34m)\u001b[0m\u001b[0;34m\u001b[0m\u001b[0;34m\u001b[0m\u001b[0m\n",
            "\u001b[0;31mTclError\u001b[0m: no display name and no $DISPLAY environment variable"
          ]
        }
      ]
    },
    {
      "cell_type": "markdown",
      "source": [
        "2.숫자를 입력하고 \"더하기\" 버튼을 누르면 합계에 더해지고 \"빼기\" 버튼을 누르면 합계에서 배지는 계산기를 작성하여 본다."
      ],
      "metadata": {
        "id": "ZSSObhrmre7q"
      }
    },
    {
      "cell_type": "code",
      "source": [
        "from tkinter import Tk, Label, Button, Entry, IntVar, ENE,W,E\n",
        "\n",
        "def update_add():\n",
        "    update(\"add\")\n",
        "\n",
        "def update_substract():\n",
        "    update(\"substract\")\n",
        "\n",
        "def update_reset():\n",
        "     update(\"rest\")\n",
        "\n",
        "window = Tk()\n",
        "total = 0\n",
        "sum = Label(window)\n",
        "sum.grid(row=0,column=1,columnspan=2)\n",
        "\n",
        "label =Label(window, text=\"현재 합계:\")\n",
        "label.gird(row=0,column=0)\n",
        "\n",
        "entry =Entry(window)\n",
        "entry.grid(row=1,column=0,columnspan=3)\n",
        "\n",
        "add_button =Button(window, text= \"더하기(+)\", command=update_add)\n",
        "substract_button =Button(window,text=\"빼기(-)\", command=update_substract)\n",
        "reset_button =Button(window, text=\"초기화\", command=update_reset)\n",
        "\n",
        "add_button.grid(row=2,column=0)\n",
        "substract_button.grod(row=2,column=2)\n",
        "\n",
        "def update(method):\n",
        "     global total\n",
        "     if method == \"add\":\n",
        "         total += int(entry.get())\n",
        "      elif method == \"substract\":\n",
        "          total -= int(entry.get())\n",
        "      else:\n",
        "          toal = 0\n",
        "      sum ['text']=str(total)\n",
        "      entry.delete(0,END)\n",
        "\n",
        "window.mainloop()                  "
      ],
      "metadata": {
        "colab": {
          "base_uri": "https://localhost:8080/",
          "height": 137
        },
        "id": "8r23ke6Frpi3",
        "outputId": "537c5832-caf2-420a-8c66-a4121d5076a7"
      },
      "execution_count": 3,
      "outputs": [
        {
          "output_type": "error",
          "ename": "IndentationError",
          "evalue": "ignored",
          "traceback": [
            "\u001b[0;36m  File \u001b[0;32m\"<tokenize>\"\u001b[0;36m, line \u001b[0;32m34\u001b[0m\n\u001b[0;31m    elif method == \"substract\":\u001b[0m\n\u001b[0m    ^\u001b[0m\n\u001b[0;31mIndentationError\u001b[0m\u001b[0;31m:\u001b[0m unindent does not match any outer indentation level\n"
          ]
        }
      ]
    },
    {
      "cell_type": "markdown",
      "source": [
        "3. 우리가 앞에서 텍스트 버전으로 제작하였던 숫자 맞추기 게임을 그래픽 사용자 인터페이스 버전으로 작성해보자."
      ],
      "metadata": {
        "id": "8b7jDVYsuGGU"
      }
    },
    {
      "cell_type": "code",
      "source": [
        "import random\n",
        "from tkinter import *\n",
        "\n",
        "window = Tk()\n",
        "secret_number = random.randint(1,100)\n",
        "guess = None\n",
        "num_guesses = 0\n",
        "\n",
        "def guess_number():\n",
        "    global num_guesses\n",
        "    guess = int(entry.get())\n",
        "    num_guesses += 1\n",
        "    if guess == secret_number:\n",
        "      message = \"축하합니다 !!\"\n",
        "    elif guess < secret_number:\n",
        "      message = \"너무 낮아요 !!\"\n",
        "    else:\n",
        "      message = \"너무 높아요 !!\"\n",
        "    label ['text']= message\n",
        "\n",
        "def reset():\n",
        "    global num_guesses\n",
        "    entry.delete(0,END)\n",
        "    secret_number = random.randint(1,100)\n",
        "    guess = 0\n",
        "    num_guesses = 0\n",
        "    message = \"1부터 100사이의 숫자를 추측하시오\"  \n",
        "    label['text']= message\n",
        "\n",
        "message = \"1부터 100사이의 숫자를 추측하시오\"    \n",
        "label= Label(window,text=message)\n",
        "entry = Entry(window)\n",
        "\n",
        "guess_button = Button( window, text = \"숫자를 입력\", command=guess_number)\n",
        "reset_button = Button(window, text=\"게임을 다시 실행\", command = reset)\n",
        "\n",
        "label.grid(row=0, column=0, columnspan=2, sticky=W+E)\n",
        "entry.grid(row=1, column=0, columnspan=2, sticky=W+E)\n",
        "guess_button.grid(row=2, column=0)\n",
        "reset_button.grid(row=2, column=1)\n",
        "\n",
        "window.mainloop()"
      ],
      "metadata": {
        "colab": {
          "base_uri": "https://localhost:8080/",
          "height": 376
        },
        "id": "HgcUzMx7uO3i",
        "outputId": "33b47987-d8c8-4fd6-ca8c-11c8097ae6ff"
      },
      "execution_count": 4,
      "outputs": [
        {
          "output_type": "error",
          "ename": "TclError",
          "evalue": "ignored",
          "traceback": [
            "\u001b[0;31m---------------------------------------------------------------------------\u001b[0m",
            "\u001b[0;31mTclError\u001b[0m                                  Traceback (most recent call last)",
            "\u001b[0;32m<ipython-input-4-039de9867f9e>\u001b[0m in \u001b[0;36m<module>\u001b[0;34m\u001b[0m\n\u001b[1;32m      2\u001b[0m \u001b[0;32mfrom\u001b[0m \u001b[0mtkinter\u001b[0m \u001b[0;32mimport\u001b[0m \u001b[0;34m*\u001b[0m\u001b[0;34m\u001b[0m\u001b[0;34m\u001b[0m\u001b[0m\n\u001b[1;32m      3\u001b[0m \u001b[0;34m\u001b[0m\u001b[0m\n\u001b[0;32m----> 4\u001b[0;31m \u001b[0mwindow\u001b[0m \u001b[0;34m=\u001b[0m \u001b[0mTk\u001b[0m\u001b[0;34m(\u001b[0m\u001b[0;34m)\u001b[0m\u001b[0;34m\u001b[0m\u001b[0;34m\u001b[0m\u001b[0m\n\u001b[0m\u001b[1;32m      5\u001b[0m \u001b[0msecret_number\u001b[0m \u001b[0;34m=\u001b[0m \u001b[0mrandom\u001b[0m\u001b[0;34m.\u001b[0m\u001b[0mrandint\u001b[0m\u001b[0;34m(\u001b[0m\u001b[0;36m1\u001b[0m\u001b[0;34m,\u001b[0m\u001b[0;36m100\u001b[0m\u001b[0;34m)\u001b[0m\u001b[0;34m\u001b[0m\u001b[0;34m\u001b[0m\u001b[0m\n\u001b[1;32m      6\u001b[0m \u001b[0mguess\u001b[0m \u001b[0;34m=\u001b[0m \u001b[0;32mNone\u001b[0m\u001b[0;34m\u001b[0m\u001b[0;34m\u001b[0m\u001b[0m\n",
            "\u001b[0;32m/usr/lib/python3.7/tkinter/__init__.py\u001b[0m in \u001b[0;36m__init__\u001b[0;34m(self, screenName, baseName, className, useTk, sync, use)\u001b[0m\n\u001b[1;32m   2021\u001b[0m                 \u001b[0mbaseName\u001b[0m \u001b[0;34m=\u001b[0m \u001b[0mbaseName\u001b[0m \u001b[0;34m+\u001b[0m \u001b[0mext\u001b[0m\u001b[0;34m\u001b[0m\u001b[0;34m\u001b[0m\u001b[0m\n\u001b[1;32m   2022\u001b[0m         \u001b[0minteractive\u001b[0m \u001b[0;34m=\u001b[0m \u001b[0;36m0\u001b[0m\u001b[0;34m\u001b[0m\u001b[0;34m\u001b[0m\u001b[0m\n\u001b[0;32m-> 2023\u001b[0;31m         \u001b[0mself\u001b[0m\u001b[0;34m.\u001b[0m\u001b[0mtk\u001b[0m \u001b[0;34m=\u001b[0m \u001b[0m_tkinter\u001b[0m\u001b[0;34m.\u001b[0m\u001b[0mcreate\u001b[0m\u001b[0;34m(\u001b[0m\u001b[0mscreenName\u001b[0m\u001b[0;34m,\u001b[0m \u001b[0mbaseName\u001b[0m\u001b[0;34m,\u001b[0m \u001b[0mclassName\u001b[0m\u001b[0;34m,\u001b[0m \u001b[0minteractive\u001b[0m\u001b[0;34m,\u001b[0m \u001b[0mwantobjects\u001b[0m\u001b[0;34m,\u001b[0m \u001b[0museTk\u001b[0m\u001b[0;34m,\u001b[0m \u001b[0msync\u001b[0m\u001b[0;34m,\u001b[0m \u001b[0muse\u001b[0m\u001b[0;34m)\u001b[0m\u001b[0;34m\u001b[0m\u001b[0;34m\u001b[0m\u001b[0m\n\u001b[0m\u001b[1;32m   2024\u001b[0m         \u001b[0;32mif\u001b[0m \u001b[0museTk\u001b[0m\u001b[0;34m:\u001b[0m\u001b[0;34m\u001b[0m\u001b[0;34m\u001b[0m\u001b[0m\n\u001b[1;32m   2025\u001b[0m             \u001b[0mself\u001b[0m\u001b[0;34m.\u001b[0m\u001b[0m_loadtk\u001b[0m\u001b[0;34m(\u001b[0m\u001b[0;34m)\u001b[0m\u001b[0;34m\u001b[0m\u001b[0;34m\u001b[0m\u001b[0m\n",
            "\u001b[0;31mTclError\u001b[0m: no display name and no $DISPLAY environment variable"
          ]
        }
      ]
    },
    {
      "cell_type": "markdown",
      "source": [
        "4.인치를 센티미터로 변환하는 다음과 같은 프로그램을 작성해보자."
      ],
      "metadata": {
        "id": "AXBXibF_x57c"
      }
    },
    {
      "cell_type": "code",
      "source": [
        "from tkinter import *\n",
        "\n",
        "def do_convert():\n",
        "  inch_val =float(cvt_from.get())\n",
        "  centimeters_val = inch_val * 2.54\n",
        "  cvt_to.set('%s 센티미터' % centimeters_val)\n",
        "\n",
        "root = Tk()\n",
        "cvt_from = StringVar()\n",
        "cvt_to = StringVar()\n",
        "\n",
        "lbl = Label(root, text= '인치를 센티미디로 변환하는 프로그램:')\n",
        "lbl.grid(row=0, column=0,columnspan=2)\n",
        "from_lbl = Label(root, text= '인치를 입력하시오:')\n",
        "from_lbl.grid(row=1, column=0)\n",
        "from_entry = Entry (root, textvariable=cvt_from)\n",
        "from_entry.grid(row=1, column=1)\n",
        "\n",
        "to_lbl = Label(root, text='변환결과:')\n",
        "to_lbl.grid(row=2,column=0)\n",
        "result_lbl = Label(root,\n",
        "  textvariable=cvt_to)\n",
        "result_lbl.grid(row=2,column=1)\n",
        "\n",
        "convert_btn = BVutton(root,\n",
        "  text='변환 !', command=do_convert)\n",
        "convert_btn.grid(row=3, column=1)\n",
        "root.mainloop()"
      ],
      "metadata": {
        "colab": {
          "base_uri": "https://localhost:8080/",
          "height": 376
        },
        "id": "T_O-6i_4x-2x",
        "outputId": "04c4a3a3-41cf-4a3b-d2af-0d657cc61531"
      },
      "execution_count": 5,
      "outputs": [
        {
          "output_type": "error",
          "ename": "TclError",
          "evalue": "ignored",
          "traceback": [
            "\u001b[0;31m---------------------------------------------------------------------------\u001b[0m",
            "\u001b[0;31mTclError\u001b[0m                                  Traceback (most recent call last)",
            "\u001b[0;32m<ipython-input-5-a1f5e58f0ba7>\u001b[0m in \u001b[0;36m<module>\u001b[0;34m\u001b[0m\n\u001b[1;32m      6\u001b[0m   \u001b[0mcvt_to\u001b[0m\u001b[0;34m.\u001b[0m\u001b[0mset\u001b[0m\u001b[0;34m(\u001b[0m\u001b[0;34m'%s 센티미터'\u001b[0m \u001b[0;34m%\u001b[0m \u001b[0mcentimeters_val\u001b[0m\u001b[0;34m)\u001b[0m\u001b[0;34m\u001b[0m\u001b[0;34m\u001b[0m\u001b[0m\n\u001b[1;32m      7\u001b[0m \u001b[0;34m\u001b[0m\u001b[0m\n\u001b[0;32m----> 8\u001b[0;31m \u001b[0mroot\u001b[0m \u001b[0;34m=\u001b[0m \u001b[0mTk\u001b[0m\u001b[0;34m(\u001b[0m\u001b[0;34m)\u001b[0m\u001b[0;34m\u001b[0m\u001b[0;34m\u001b[0m\u001b[0m\n\u001b[0m\u001b[1;32m      9\u001b[0m \u001b[0mcvt_from\u001b[0m \u001b[0;34m=\u001b[0m \u001b[0mStringVar\u001b[0m\u001b[0;34m(\u001b[0m\u001b[0;34m)\u001b[0m\u001b[0;34m\u001b[0m\u001b[0;34m\u001b[0m\u001b[0m\n\u001b[1;32m     10\u001b[0m \u001b[0mcvt_to\u001b[0m \u001b[0;34m=\u001b[0m \u001b[0mStringVar\u001b[0m\u001b[0;34m(\u001b[0m\u001b[0;34m)\u001b[0m\u001b[0;34m\u001b[0m\u001b[0;34m\u001b[0m\u001b[0m\n",
            "\u001b[0;32m/usr/lib/python3.7/tkinter/__init__.py\u001b[0m in \u001b[0;36m__init__\u001b[0;34m(self, screenName, baseName, className, useTk, sync, use)\u001b[0m\n\u001b[1;32m   2021\u001b[0m                 \u001b[0mbaseName\u001b[0m \u001b[0;34m=\u001b[0m \u001b[0mbaseName\u001b[0m \u001b[0;34m+\u001b[0m \u001b[0mext\u001b[0m\u001b[0;34m\u001b[0m\u001b[0;34m\u001b[0m\u001b[0m\n\u001b[1;32m   2022\u001b[0m         \u001b[0minteractive\u001b[0m \u001b[0;34m=\u001b[0m \u001b[0;36m0\u001b[0m\u001b[0;34m\u001b[0m\u001b[0;34m\u001b[0m\u001b[0m\n\u001b[0;32m-> 2023\u001b[0;31m         \u001b[0mself\u001b[0m\u001b[0;34m.\u001b[0m\u001b[0mtk\u001b[0m \u001b[0;34m=\u001b[0m \u001b[0m_tkinter\u001b[0m\u001b[0;34m.\u001b[0m\u001b[0mcreate\u001b[0m\u001b[0;34m(\u001b[0m\u001b[0mscreenName\u001b[0m\u001b[0;34m,\u001b[0m \u001b[0mbaseName\u001b[0m\u001b[0;34m,\u001b[0m \u001b[0mclassName\u001b[0m\u001b[0;34m,\u001b[0m \u001b[0minteractive\u001b[0m\u001b[0;34m,\u001b[0m \u001b[0mwantobjects\u001b[0m\u001b[0;34m,\u001b[0m \u001b[0museTk\u001b[0m\u001b[0;34m,\u001b[0m \u001b[0msync\u001b[0m\u001b[0;34m,\u001b[0m \u001b[0muse\u001b[0m\u001b[0;34m)\u001b[0m\u001b[0;34m\u001b[0m\u001b[0;34m\u001b[0m\u001b[0m\n\u001b[0m\u001b[1;32m   2024\u001b[0m         \u001b[0;32mif\u001b[0m \u001b[0museTk\u001b[0m\u001b[0;34m:\u001b[0m\u001b[0;34m\u001b[0m\u001b[0;34m\u001b[0m\u001b[0m\n\u001b[1;32m   2025\u001b[0m             \u001b[0mself\u001b[0m\u001b[0;34m.\u001b[0m\u001b[0m_loadtk\u001b[0m\u001b[0;34m(\u001b[0m\u001b[0;34m)\u001b[0m\u001b[0;34m\u001b[0m\u001b[0;34m\u001b[0m\u001b[0m\n",
            "\u001b[0;31mTclError\u001b[0m: no display name and no $DISPLAY environment variable"
          ]
        }
      ]
    },
    {
      "cell_type": "markdown",
      "source": [
        "5.데이터를 입력받을 때 사용할 수 있는 다음과 같은 애플리케이션을 작성해보자."
      ],
      "metadata": {
        "id": "q2VKqsrO0YE-"
      }
    },
    {
      "cell_type": "code",
      "source": [
        "from tkinter import *\n",
        "fields = '이름','직업', '국적'\n",
        "\n",
        "def fetch(entries):\n",
        "  for entry in entries:\n",
        "    field = entry[0]\n",
        "    text = entry[1].get()\n",
        "    print('%s: \"%s\"'% (field, text))\n",
        "\n",
        " def makeform(root, fields):\n",
        "    entries = []\n",
        "    for field in fields:\n",
        "      row = Frame(root)\n",
        "      lab = Label(row. width=15, text=field)\n",
        "      ent=Entry(row)\n",
        "      row.pack(side=TOP, fill=X)   \n",
        "      lab.pack(side=LEFT)\n",
        "      ent.0pack(side=RIGHT,expand =YES, fill =X)\n",
        "      entries.append((field,ent))\n",
        "   return entries\n",
        "\n",
        "root = Tk()\n",
        "ents = makeforn(root, fields)\n",
        "root.glind('<Return>', (lambda event, e=ents : fetch(e)))\n",
        "b1 = Butoon(root, text= '보여주기',\n",
        "      command = (lambda e=ents:fetch(e)))  \n",
        "b1.pack(side=LEFT,padx=5,pady=5)\n",
        "b2 = Button(root, text='종료하기', command=root.quit)\n",
        "b2.pack(side=LEFT, padx=5, pady=5)\n",
        "root.mainloop()    "
      ],
      "metadata": {
        "colab": {
          "base_uri": "https://localhost:8080/",
          "height": 137
        },
        "id": "gYXdTMnO0gKW",
        "outputId": "6a163204-d6cc-4b8a-df77-d702d24da859"
      },
      "execution_count": 7,
      "outputs": [
        {
          "output_type": "error",
          "ename": "IndentationError",
          "evalue": "ignored",
          "traceback": [
            "\u001b[0;36m  File \u001b[0;32m\"<tokenize>\"\u001b[0;36m, line \u001b[0;32m10\u001b[0m\n\u001b[0;31m    def makeform(root, fields):\u001b[0m\n\u001b[0m    ^\u001b[0m\n\u001b[0;31mIndentationError\u001b[0m\u001b[0;31m:\u001b[0m unindent does not match any outer indentation level\n"
          ]
        }
      ]
    },
    {
      "cell_type": "code",
      "source": [],
      "metadata": {
        "id": "Y__k9VL12-FQ"
      },
      "execution_count": null,
      "outputs": []
    }
  ]
}